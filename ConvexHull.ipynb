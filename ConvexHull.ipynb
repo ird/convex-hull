{
 "cells": [
  {
   "cell_type": "code",
   "execution_count": 17,
   "metadata": {},
   "outputs": [
    {
     "name": "stdout",
     "output_type": "stream",
     "text": [
      "<class 'numpy.ndarray'>\n"
     ]
    },
    {
     "data": {
      "image/png": "[encoded data removed]",
      "text/plain": [
       "<Figure size 432x288 with 1 Axes>"
      ]
     },
     "metadata": {},
     "output_type": "display_data"
    }
   ],
   "source": [
    "import numpy as np\n",
    "import matplotlib.pyplot as plt\n",
    "\n",
    "def warm_up():\n",
    "    points = np.random.rand(18,2)\n",
    "    print(type(points))\n",
    "    # plot all the points\n",
    "    plt.plot(points[:, 0], points[:, 1], 'bo')\n",
    "    # example line drawn between 2 points.\n",
    "    plt.plot([points[0, 0], points[1, 0]], [points[0, 1], points[1,1]], 'r-')\n",
    "    plt.show()\n",
    "    \n",
    "warm_up()"
   ]
  },
  {
   "cell_type": "code",
   "execution_count": 120,
   "metadata": {},
   "outputs": [
    {
     "data": {
      "image/png": "[encoded data removed]",
      "text/plain": [
       "<Figure size 432x288 with 1 Axes>"
      ]
     },
     "metadata": {},
     "output_type": "display_data"
    }
   ],
   "source": [
    "import numpy as np\n",
    "import matplotlib.pyplot as plt\n",
    "from math import sqrt, acos, pi, sin\n",
    "\n",
    "def jarvis(points):\n",
    "    \"\"\"implement the jarvis march convex hull algorithm\"\"\"\n",
    "    s = leftmost(points)\n",
    "    hull = [s]\n",
    "    last_point = [s[0], 0]\n",
    "    open_set = [[x,y] for x,y in points]\n",
    "    while True:\n",
    "        min_angle = 2*pi\n",
    "        for p in open_set:\n",
    "            lines = {'x1': last_point[0], 'y1': last_point[1], 'x2': s[0], 'y2': s[1], 'x3': p[0], 'y3': p[1]}\n",
    "            angle = angle_between(lines)\n",
    "            if angle < min_angle:\n",
    "                min_angle = angle\n",
    "                candidate = [p[0], p[1]]\n",
    "        last_point = s\n",
    "        s = candidate\n",
    "        # print(\"adding\", s, \"to hull with angle of\", min_angle)\n",
    "        hull.append(s)\n",
    "        if s == hull[0]:\n",
    "            break\n",
    "        if s not in open_set:\n",
    "            raise KeyError\n",
    "        open_set.remove(s)\n",
    "    return hull\n",
    "\n",
    "def angle_between(L):\n",
    "    \"\"\" returns the reflex angle between the two lines,\n",
    "    (x1, y1) -> (x2, y2) and (x2, y2) -> (x3, y3)\"\"\"\n",
    "    # in any case where 2 of the points are the same, return the maximum angle\n",
    "    if (L['x1'], L['y1']) == (L['x3'], L['y3']):\n",
    "        return 2*pi\n",
    "    if (L['x1'], L['y1']) == (L['x2'], L['y2']):\n",
    "        return 2*pi\n",
    "    if (L['x2'], L['y2']) == (L['x3'], L['y3']):\n",
    "        return 2*pi\n",
    "    a = sqrt((L['x2']-L['x1'])**2+(L['y2']-L['y1'])**2)\n",
    "    b = sqrt((L['x3']-L['x2'])**2+(L['y3']-L['y2'])**2)\n",
    "    c = sqrt((L['x3']-L['x1'])**2+(L['y3']-L['y1'])**2)\n",
    "    height = 2*herons(a,b,c)/c  # area=base*height/2\n",
    "    th1 = acos(height/a)\n",
    "    th2 = acos(height/b)\n",
    "    check_right_lean = sin(th1) * a\n",
    "    check_left_lean = sin(th2) * b\n",
    "    if(check_right_lean > c):\n",
    "        # the 'height' line does not bisect th1\n",
    "        return 2*pi - th1 + th2\n",
    "    if(check_left_lean > c):\n",
    "        # the 'height' line does not bisect th2\n",
    "        return 2*pi + th1 - th2\n",
    "    else:\n",
    "        return 2*pi - th1 - th2\n",
    "\n",
    "def herons(a, b, c):\n",
    "    \"\"\" Heron's formula for working out the area of a SSS triangle\"\"\"\n",
    "    s = (a+b+c)/2  # semiperimeter\n",
    "    return sqrt(s*(s-a)*(s-b)*(s-c))  # Heron's formula\n",
    "    \n",
    "def leftmost(points):\n",
    "    i,j = points[0]\n",
    "    for x,y in points:\n",
    "        if i < x:\n",
    "            continue\n",
    "        i,j = x,y\n",
    "    return [i,j]\n",
    "    \n",
    "def main():\n",
    "    # unit tests\n",
    "    assert(herons(4,13,15) == 24)\n",
    "    assert(angle_between({'x1': 0, 'y1': 0, 'x2': 0, 'y2': 4, 'x3': 3, 'y3': 4}) == 6*pi/4)\n",
    "    assert(leftmost([[1,2],[2,3],[3,4],[4,5]]) == [1,2])\n",
    "    points = np.random.rand(150,2)\n",
    "    plt.plot(points[:, 0], points[:, 1], 'bo')\n",
    "    hull = np.array(jarvis(points))\n",
    "    plt.plot(hull[:, 0], hull[:, 1], 'r-')\n",
    "    plt.show()\n",
    "    \n",
    "main()"
   ]
  },
  {
   "cell_type": "code",
   "execution_count": null,
   "metadata": {},
   "outputs": [],
   "source": []
  }
 ],
 "metadata": {
  "kernelspec": {
   "display_name": "Python 3",
   "language": "python",
   "name": "python3"
  },
  "language_info": {
   "codemirror_mode": {
    "name": "ipython",
    "version": 3
   },
   "file_extension": ".py",
   "mimetype": "text/x-python",
   "name": "python",
   "nbconvert_exporter": "python",
   "pygments_lexer": "ipython3",
   "version": "3.5.4"
  }
 },
 "nbformat": 4,
 "nbformat_minor": 2
}
