{
 "cells": [
  {
   "cell_type": "code",
   "execution_count": 60,
   "metadata": {},
   "outputs": [
    {
     "data": {
      "image/png": "[encoded data removed]",
      "text/plain": [
       "<Figure size 432x288 with 1 Axes>"
      ]
     },
     "metadata": {},
     "output_type": "display_data"
    }
   ],
   "source": [
    "import numpy as np\n",
    "import matplotlib.pyplot as plt\n",
    "\n",
    "warm_up()\n",
    "\n",
    "def warm_up():\n",
    "    points = np.random.rand(18,2)\n",
    "    # plot all the points\n",
    "    plt.plot(points[:, 0], points[:, 1], 'bo')\n",
    "    # example line drawn between 2 points.\n",
    "    plt.plot([points[0, 0], points[1, 0]], [points[0, 1], points[1,1]], 'r-')\n",
    "    plt.show()"
   ]
  },
  {
   "cell_type": "code",
   "execution_count": 46,
   "metadata": {},
   "outputs": [
    {
     "name": "stdout",
     "output_type": "stream",
     "text": [
      "conv initialised to  [(0.06470877537271269, 0.2956408742230231)]\n",
      "adding (0.06915868873802788, 0.4233622062867374) to conv with angle of 0.034826712563310436\n",
      "adding (0.6681014169208023, 0.8771914096725646) to conv with angle of 0.9223744813377948\n",
      "adding (0.8269130348179131, 0.9935130742944112) to conv with angle of 0.9386217660602367\n",
      "adding (0.835843574571796, 0.7758088102568524) to conv with angle of 0.8263966047183215\n",
      "adding (0.8721952036746731, 0.2777152109661768) to conv with angle of 0.8582505242853767\n",
      "adding (0.9329240315873416, 0.3661010297739159) to conv with angle of 0.6020074676373185\n",
      "adding (0.4950905714565854, 0.003998776628225342) to conv with angle of 2.45058477967566\n",
      "adding (0.5517765531464865, 0.5653093213530644) to conv with angle of 0.10064739579623236\n",
      "adding (0.7149972261412297, 0.6902705810236969) to conv with angle of 0.9173876302429885\n",
      "adding (0.7962975309890933, 0.3635399449554406) to conv with angle of 1.029275118640028\n",
      "adding (0.8138290615499544, 0.5740080318826377) to conv with angle of 0.08310595270823327\n",
      "adding (0.43795981352764424, 0.34512506628336415) to conv with angle of 2.594623318775941\n",
      "adding (0.6257632092517847, 0.5956310350782533) to conv with angle of 0.6433067068113736\n",
      "adding (0.29725541202030326, 0.39603097595908154) to conv with angle of 2.595606492446396\n",
      "[(0.06470877537271269, 0.2956408742230231), (0.06915868873802788, 0.4233622062867374), (0.6681014169208023, 0.8771914096725646), (0.8269130348179131, 0.9935130742944112), (0.835843574571796, 0.7758088102568524), (0.8721952036746731, 0.2777152109661768), (0.9329240315873416, 0.3661010297739159), (0.4950905714565854, 0.003998776628225342), (0.5517765531464865, 0.5653093213530644), (0.7149972261412297, 0.6902705810236969), (0.7962975309890933, 0.3635399449554406), (0.8138290615499544, 0.5740080318826377), (0.43795981352764424, 0.34512506628336415), (0.6257632092517847, 0.5956310350782533), (0.29725541202030326, 0.39603097595908154)]\n",
      "2.9441970937399127\n"
     ]
    },
    {
     "name": "stderr",
     "output_type": "stream",
     "text": [
      "/home/ec2-user/jupyter/.lab/lib64/python3.5/site-packages/ipykernel_launcher.py:37: RuntimeWarning: invalid value encountered in double_scalars\n"
     ]
    },
    {
     "data": {
      "image/png": "[encoded data removed]",
      "text/plain": [
       "<Figure size 432x288 with 1 Axes>"
      ]
     },
     "metadata": {},
     "output_type": "display_data"
    }
   ],
   "source": [
    "import numpy as np\n",
    "import matplotlib.pyplot as plt\n",
    "from math import sqrt, asin, pi\n",
    "\n",
    "def jarvis(points):\n",
    "    \"\"\"implement the jarvis march convex hull algorithm\"\"\"\n",
    "    s = leftmost(points)\n",
    "    conv = [s]\n",
    "    open_set = [(x,y) for x,y in points]\n",
    "    print(\"conv initialised to \", conv)\n",
    "    # open_set.remove(s)\n",
    "    while True:\n",
    "        candidate = s\n",
    "        min_angle = 2*pi\n",
    "        for p in open_set:\n",
    "            pair = {'x1': s[0], 'y1': s[1], 'x2': p[0], 'y2': p[1]}\n",
    "            angle = angle_between(pair) # TODO: wrong angle!!!\n",
    "            if angle < min_angle and angle > 0:\n",
    "                min_angle = angle\n",
    "                candidate = (pair['x2'], pair['y2'])\n",
    "            # print(\"trying\", p, \"with an angle of \", angle, \"current best=\", min_angle)\n",
    "        s = candidate\n",
    "        if s == conv[0]:\n",
    "            break\n",
    "        print(\"adding\", s, \"to conv with angle of\", min_angle)\n",
    "        conv.append(s)\n",
    "        open_set.remove(s)\n",
    "    return conv\n",
    "\n",
    "def angle_between(pair):\n",
    "    \"\"\" returns the angle between the two points,\n",
    "    (pair['x1'], pair['y1']) and (pair['x2'], pair['y2'])\"\"\"\n",
    "    # print(\"calculating the angle between (\", pair['x1'], \",\", pair['y1'], \") and (\", pair['x2'], \",\", pair['y2'], \")\")\n",
    "    dy = abs(pair['y2'] - pair['y1'])\n",
    "    dx = abs(pair['x2'] - pair['x1'])\n",
    "    hyp = sqrt(dx**2 + dy**2)\n",
    "    angle = asin(dx/hyp)\n",
    "    # add adjustment to get angle from y=y1 to the new point\n",
    "    if pair['y2'] > pair['y1']:\n",
    "        if pair['x2'] > pair['x1']:\n",
    "            # print(\"top left\")\n",
    "            return angle\n",
    "        else:\n",
    "            # print(\"top right\")\n",
    "            return angle + 3*pi/4\n",
    "    else:\n",
    "        if pair['x2'] > pair['x1']:\n",
    "            # print(\"bottom left\")\n",
    "            return angle + pi/4\n",
    "        else:\n",
    "            # print(\"bottom right\")\n",
    "            return angle + pi/2\n",
    "\n",
    "    \n",
    "def leftmost(points):\n",
    "    i,j = points[0]\n",
    "    for x,y in points:\n",
    "        if i < x:\n",
    "            continue\n",
    "        i,j = x,y\n",
    "    return (i,j)\n",
    "    \n",
    "def main():\n",
    "    points = np.random.rand(15,2)\n",
    "    plt.plot(points[:, 0], points[:, 1], 'bo')\n",
    "    conv = jarvis(points)\n",
    "    print(conv)\n",
    "    print(angle_between({'x1': 10, 'y1': 13, 'x2': 5, 'y2': 12}))\n",
    "    # plt.plot(conv[:, 0], conv[:, 1], 'r-')\n",
    "    plt.show()\n",
    "    \n",
    "main()"
   ]
  },
  {
   "cell_type": "code",
   "execution_count": null,
   "metadata": {},
   "outputs": [],
   "source": []
  },
  {
   "cell_type": "code",
   "execution_count": null,
   "metadata": {},
   "outputs": [],
   "source": []
  }
 ],
 "metadata": {
  "kernelspec": {
   "display_name": "Python 3",
   "language": "python",
   "name": "python3"
  },
  "language_info": {
   "codemirror_mode": {
    "name": "ipython",
    "version": 3
   },
   "file_extension": ".py",
   "mimetype": "text/x-python",
   "name": "python",
   "nbconvert_exporter": "python",
   "pygments_lexer": "ipython3",
   "version": "3.5.4"
  }
 },
 "nbformat": 4,
 "nbformat_minor": 2
}
